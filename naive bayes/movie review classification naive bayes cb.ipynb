{
 "cells": [
  {
   "cell_type": "markdown",
   "id": "4181681a",
   "metadata": {},
   "source": []
  },
  {
   "cell_type": "code",
   "execution_count": 1,
   "id": "af98d4a1",
   "metadata": {},
   "outputs": [],
   "source": [
    "from nltk.tokenize import RegexpTokenizer\n",
    "from nltk.stem.porter import PorterStemmer\n",
    "from nltk.corpus import stopwords"
   ]
  },
  {
   "cell_type": "code",
   "execution_count": 2,
   "id": "a585e786",
   "metadata": {},
   "outputs": [],
   "source": [
    "tokenizer=RegexpTokenizer(r\"\\w+\")\n",
    "en_stopwords=set(stopwords.words('english'))\n",
    "ps=PorterStemmer()"
   ]
  },
  {
   "cell_type": "code",
   "execution_count": 3,
   "id": "20e29b39",
   "metadata": {},
   "outputs": [],
   "source": [
    "def get_cleaned_review(review):\n",
    "    review=review.lower()\n",
    "    review=review.replace(\"<br /><br />\",\" \")\n",
    "    \n",
    "    tokens=tokenizer.tokenize(review)\n",
    "    new_tokens=[token for token in tokens if token not in en_stopwords]\n",
    "    stemmed_tokens=[ps.stem(token) for token in new_tokens]\n",
    "    \n",
    "    cleaned_review=\" \".join(stemmed_tokens)\n",
    "    \n",
    "    return cleaned_review"
   ]
  },
  {
   "cell_type": "code",
   "execution_count": 6,
   "id": "b75dc1af",
   "metadata": {},
   "outputs": [
    {
     "data": {
      "text/plain": [
       "'realli sure make movi weird artsi kind movi watch compel plot charact like kind movi stop watch horrif fascin thing happen screen although first time wife watch make way disturb run bit long nonetheless worthwhil view interest dark movi enjoy film like pulp fiction reservoir dog lock stock two smoke barrel go love two hand type black humor beat keep entertain whole film like pulp fiction wacki scenario charact get deal along gallipoli picnic hang rock one best australian film seen also star young heath ledger got real big state terribl underr movi believ good pulp fiction great see okay deal american pilot fli along mind busi suddenli outnumb evil cowardli non american fighter plane middl eastern type suffic say like appl pie elvi presley proceed shoot american pilot noth wrong evil non american care know bang foreign jail sentenc death would normal happen us militari would carpet bomb coupl nearbi town pilot releas time evil peac lovin type probabl got involv manag stop kind retaliatori massacr imagin pleas pilot famili evil foreign dictat smug content look make american pay oh ye inde reckon doug master captur pilot 16 year old son see doug abl fli plane longer drive car long decid fli evil foreign countri get dad back help friend doug wingman retir pilot chappi sinclair doug launch two man air raid foreign think plan would bound fail wrong sure middl eastern type might veteran pilot doug got ace sleev listen rock music fli shoot dozen enemi plane blow oil refineri doug land airport get wound dad onboard plane understand evil quit smug anymor dictat get quit annoy antic take sky bid shoot doug young lad listen rock music blow villain sky hurrah doug chappi shot 90 air forc foreign send last plane rather poor attempt shoot doug nick time flight us f16 turn scare away cannot recommend film enough first ever videocassett movi brought twenti kept hope dad would get shot foreign countri could rescu like fli happen bbc surpass boundari cross tip velvet past dare denni potter work mini seri screen uk superb andrew davi work top notch read sarah water novel imagin done real justic comment bawdi men watch prove main talk sell point origin advertis fact portay lesbian side societi 1800 time thought old men rent boy well lesbian took place mainli behind close often respect door also look tip velvet love stori actual well self discoveri mani gay bi straight peopl go comment occur repeat time seen yet either repeat tv dvd get treat even product film perfect tri hide blush part like said bawdi order day bewar phallu two enjoy victor matur bare civil mostli control mountain man trapper may poster robert preston fail union colonel led men get cut ribbon confeder artilleri shiloh sent fort oregon incompet interest part marri young hard recogn first ann bancroft uncivil matur lust colonel wife give film interest even dark subplot goe far refer covet anoth man wife one point jame whitmor play matur older wiser mountain man father figur direct anthoni mann film lost among famou western jame stewart even realli need indian menac make film worth see although preston get prove bad judgement command offic fail expedit final bring indian submiss well stage attack among forest quickli turn rout'"
      ]
     },
     "execution_count": 6,
     "metadata": {},
     "output_type": "execute_result"
    }
   ],
   "source": [
    "get_cleaned_review(sample)"
   ]
  },
  {
   "cell_type": "code",
   "execution_count": 5,
   "id": "c00b11c7",
   "metadata": {},
   "outputs": [],
   "source": [
    "sample=\"\"\"not really sure what to make of this movie. very weird, very artsy. not the kind of movie you watch because it has a compelling plot or characters. more like the kind of movie that you can't stop watching because of the horrifically fascinating things happening on screen. although, the first time my wife watched this she couldn't make it all the way through... too disturbing for her. runs a bit long, but nonetheless a worthwhile viewing for those interested in very dark movies.\n",
    "If you enjoyed films like Pulp Fiction, Reservoir Dogs, and Lock, Stock, and Two Smoking Barrels, you are going to LOVE Two Hands. It has the same type of black humor beat to it and will keep you entertained through the whole film. Like Pulp Fiction, it has the wacky scenarios that the characters get into and how they deal with them. Along with Gallipoli and Picnic at Hanging Rock, this has to be one of the best Australian films I've seen. It also stars a young Heath Ledger before he got real big in the states.<br /><br />This is a terribly underrated movie that I believe is just as good as Pulp Fiction and those greats. You have to see it!\n",
    "Okay, here's the deal. There's this American pilot who's flying along, minding his own business, when suddenly he's outnumbered by evil, cowardly non-American fighter planes (they're Middle Eastern types, but suffice to say they don't like apple pie or Elvis Presley), who proceed to shoot him down. Now this American pilot was doing nothing wrong, but those evil non-Americans didn't care and before you know it he's banged up in a foreign jail and sentenced to death!!<br /><br />Now, what would normally happen here is that the US Military would carpet bomb a couple of nearby towns until the pilot was released, but not this time. Those evil peace lovin' types probably got involved and managed to stop any kind of retaliatory massacre. As you can imagine, this doesn't please the pilot's family and the evil foreign dictator has this smug, contented look about him. He'll make those Americans pay, oh yes indeed!<br /><br />But He didn't reckon on Doug Masters, the captured pilots 16-year-old son. You see Doug has been able to fly a plane longer than he can drive a car, (which can't be that long) and decides to fly into that evil, foreign country and get his Dad back. So with the help of his friends, Doug and his wingman, retired pilot Chappy' Sinclair, Doug launches a two man air raid on the foreigners. <br /><br />Now you'd think that this plan would be bound to fail, but you'd be wrong. Sure, those Middle Eastern types might be all veteran pilots, but Doug's got an ace up his sleeve, he listens to rock music when he flies! After shooting down a dozen or so enemy planes and blowing up an oil refinery, Doug lands at an airport and gets his now wounded dad onboard the plane. Understandably, the evil, not quite so smug anymore, dictator gets quite annoyed at these antics and takes to the skies himself, in bid to shoot down Doug. But the young lad listens to some more rock music and blows the villain out of the sky. HURRAH!<br /><br />After Doug and Chappy have shot down 90% of their air force, the foreigners send up their last few planes in a rather poor attempt to shoot Doug down, but in the nick of time, a flight of US F16s turn up and scare them away.<br /><br />I cannot recommend this film enough. It was the first ever videocassette movie that I brought, and until I was twenty, I kept hoping that my dad would get shot down over a foreign country so that I could rescue him. But he's doesn't like flying, so it didn't happen.\n",
    "The BBC surpassed themselves with the boundaries they crossed with Tipping the Velvet. In the past they've been 'daring' with Dennis Potter's works but this mini-series (as it was screened in the UK) is superb. Andrew Davies work is top notch - I've not read the Sarah Water's novel but I can imagine he's done it real justice. I comment on the bawdiness - most men have watched it for that - proved to be a main talking and selling point when originally advertised. The fact is, it portays the lesbian side of society in the 1800s - a time when most thought it was old men and rent boys - well it was - lesbianism took place mainly behind closed and often respectable doors.<br /><br />You can also look at Tipping The Velvet as a 'love story' - it actually is - as well as 'self discovery' that many gay/bi and straight people go through and comments on this occur and repeat all the time.<br /><br />If you've not seen it yet - either repeated on TV or on DVD - get it - you'll be in for a treat - and even the production and filming of it is perfect. Just try to hide your blushes in parts - like I said - 'bawdy' is the order of the day - and beware a 'phallus' or two!<br /><br />Enjoy!\n",
    "Victor Mature, as a barely civilized and mostly out of control mountain man and trapper, may be on the poster, but Robert Preston as a failed Union colonel who led his men to get \"cut to ribbons\" by Confederate artillery at Shiloh, and is sent to a fort in Oregon for his incompetence, has the most interesting part, married to a young and hard to recognize at first Anne Bancroft. The uncivilized Mature lusts for the colonel's wife, giving the film an interesting and even dark subplot which goes so far as to reference coveting another man's wife at one point by James Whitmore who plays Mature's older and wiser mountain man father figure. Directed by Anthony Mann, this film is lost among his more famous westerns with James Stewart, but even so you really don't need the Indian menace to make this a film worth seeing, although Preston gets to prove his bad judgement as a commanding officer again in a failed expedition to finally bring the Indians under submission, in a well staged attack among the forest that quickly turns into a rout.\"\"\""
   ]
  },
  {
   "cell_type": "code",
   "execution_count": 7,
   "id": "58eed93c",
   "metadata": {},
   "outputs": [],
   "source": [
    "def getstemmeddocument(inputfile,outputfile):\n",
    "    out=open(output,'w',encoding='utf8')\n",
    "    \n",
    "    with open(inputfile,encoding='utf8') as f:\n",
    "        reviews=f.readlines()\n",
    "        \n",
    "    for review in reviews:\n",
    "        cleaned_review=get_cleaned_review(review)\n",
    "        print((cleaned_review),file=out)\n",
    "    out.close()"
   ]
  },
  {
   "cell_type": "code",
   "execution_count": null,
   "id": "7889c053",
   "metadata": {},
   "outputs": [],
   "source": [
    "inputfile=\"\"\n",
    "outputfile=\"\"\n",
    "getstemmeddocument(inputfile,outputfile)"
   ]
  },
  {
   "cell_type": "code",
   "execution_count": null,
   "id": "f5fb808b",
   "metadata": {},
   "outputs": [],
   "source": []
  },
  {
   "cell_type": "markdown",
   "id": "dd88ab92",
   "metadata": {},
   "source": [
    "## Multinomial Event Model"
   ]
  },
  {
   "cell_type": "code",
   "execution_count": 8,
   "id": "e8fdfeb8",
   "metadata": {},
   "outputs": [],
   "source": [
    "x = [\"This was awesome an awesome movie\",\n",
    "     \"Great movie! I liked it a lot\",\n",
    "     \"Happy Ending! awesome acting by the hero\",\n",
    "     \"loved it! truly great\",\n",
    "     \"bad not upto the mark\",\n",
    "     \"could have been better\",\n",
    "     \"Surely a Disappointing movie\"]\n",
    "\n",
    "y = [1,1,1,1,0,0,0] # 1 - Positive, 0 - Negative Class"
   ]
  },
  {
   "cell_type": "code",
   "execution_count": 9,
   "id": "da013d76",
   "metadata": {},
   "outputs": [],
   "source": [
    "x_test = [\"I was happy & happy and I loved the acting in the movie\",\n",
    "          \"The movie I saw was bad\"]"
   ]
  },
  {
   "cell_type": "markdown",
   "id": "ca417aa2",
   "metadata": {},
   "source": [
    "## cleaning"
   ]
  },
  {
   "cell_type": "code",
   "execution_count": 10,
   "id": "e337be7a",
   "metadata": {},
   "outputs": [],
   "source": [
    "x_clean = [get_cleaned_review(i) for i in x]\n",
    "xt_clean = [get_cleaned_review(i) for i in x_test]"
   ]
  },
  {
   "cell_type": "code",
   "execution_count": 11,
   "id": "341739e8",
   "metadata": {},
   "outputs": [
    {
     "name": "stdout",
     "output_type": "stream",
     "text": [
      "['awesom awesom movi', 'great movi like lot', 'happi end awesom act hero', 'love truli great', 'bad upto mark', 'could better', 'sure disappoint movi']\n",
      "['happi happi love act movi', 'movi saw bad']\n"
     ]
    }
   ],
   "source": [
    "print(x_clean)\n",
    "print(xt_clean)"
   ]
  },
  {
   "cell_type": "markdown",
   "id": "c095813b",
   "metadata": {},
   "source": [
    "## Vectorization"
   ]
  },
  {
   "cell_type": "code",
   "execution_count": 12,
   "id": "8b475c05",
   "metadata": {},
   "outputs": [],
   "source": [
    "from sklearn.feature_extraction.text import CountVectorizer"
   ]
  },
  {
   "cell_type": "code",
   "execution_count": 13,
   "id": "9decd609",
   "metadata": {},
   "outputs": [
    {
     "name": "stdout",
     "output_type": "stream",
     "text": [
      "[[0 0 2 0 1 1 0 0 0 0 0 0 0 0 0 0 0 0 0 0 0 0 0 0 0 0 1 0 0 0 0 0 0 0]\n",
      " [0 0 0 0 0 0 0 0 0 0 0 0 0 0 0 1 1 0 0 0 1 1 1 0 0 0 1 1 0 0 0 0 0 0]\n",
      " [1 1 1 1 0 0 0 0 0 0 0 0 0 1 1 0 0 1 1 1 0 0 0 0 0 0 0 0 0 0 0 0 0 0]\n",
      " [0 0 0 0 0 0 0 0 0 0 0 0 0 0 0 1 0 0 0 0 0 0 0 1 1 0 0 0 0 0 1 1 0 0]\n",
      " [0 0 0 0 0 0 1 1 0 0 0 0 0 0 0 0 0 0 0 0 0 0 0 0 0 1 0 0 0 0 0 0 1 1]\n",
      " [0 0 0 0 0 0 0 0 1 1 1 0 0 0 0 0 0 0 0 0 0 0 0 0 0 0 0 0 0 0 0 0 0 0]\n",
      " [0 0 0 0 0 0 0 0 0 0 0 1 1 0 0 0 0 0 0 0 0 0 0 0 0 0 1 0 1 1 0 0 0 0]]\n",
      "(7, 34)\n"
     ]
    }
   ],
   "source": [
    "cv = CountVectorizer(ngram_range=(1,2))\n",
    "\n",
    "x_vec = cv.fit_transform(x_clean).toarray()\n",
    "print(x_vec)\n",
    "print(x_vec.shape)"
   ]
  },
  {
   "cell_type": "code",
   "execution_count": 16,
   "id": "550738ff",
   "metadata": {
    "scrolled": true
   },
   "outputs": [
    {
     "data": {
      "text/plain": [
       "['act',\n",
       " 'act hero',\n",
       " 'awesom',\n",
       " 'awesom act',\n",
       " 'awesom awesom',\n",
       " 'awesom movi',\n",
       " 'bad',\n",
       " 'bad upto',\n",
       " 'better',\n",
       " 'could',\n",
       " 'could better',\n",
       " 'disappoint',\n",
       " 'disappoint movi',\n",
       " 'end',\n",
       " 'end awesom',\n",
       " 'great',\n",
       " 'great movi',\n",
       " 'happi',\n",
       " 'happi end',\n",
       " 'hero',\n",
       " 'like',\n",
       " 'like lot',\n",
       " 'lot',\n",
       " 'love',\n",
       " 'love truli',\n",
       " 'mark',\n",
       " 'movi',\n",
       " 'movi like',\n",
       " 'sure',\n",
       " 'sure disappoint',\n",
       " 'truli',\n",
       " 'truli great',\n",
       " 'upto',\n",
       " 'upto mark']"
      ]
     },
     "execution_count": 16,
     "metadata": {},
     "output_type": "execute_result"
    }
   ],
   "source": [
    "cv.get_feature_names()"
   ]
  },
  {
   "cell_type": "code",
   "execution_count": 17,
   "id": "4431c7ea",
   "metadata": {},
   "outputs": [
    {
     "name": "stdout",
     "output_type": "stream",
     "text": [
      "[[1 0 0 0 0 0 0 0 0 0 0 0 0 0 0 0 0 2 0 0 0 0 0 1 0 0 1 0 0 0 0 0 0 0]\n",
      " [0 0 0 0 0 0 1 0 0 0 0 0 0 0 0 0 0 0 0 0 0 0 0 0 0 0 1 0 0 0 0 0 0 0]]\n",
      "(2, 34)\n"
     ]
    }
   ],
   "source": [
    "## Vectorization on the test set\n",
    "xt_vec = cv.transform(xt_clean).toarray()\n",
    "print(xt_vec)\n",
    "# print(cv.get_feature_names())\n",
    "print(xt_vec.shape)"
   ]
  },
  {
   "cell_type": "code",
   "execution_count": 18,
   "id": "70bf4705",
   "metadata": {},
   "outputs": [
    {
     "name": "stdout",
     "output_type": "stream",
     "text": [
      "['act', 'act hero', 'awesom', 'awesom act', 'awesom awesom', 'awesom movi', 'bad', 'bad upto', 'better', 'could', 'could better', 'disappoint', 'disappoint movi', 'end', 'end awesom', 'great', 'great movi', 'happi', 'happi end', 'hero', 'like', 'like lot', 'lot', 'love', 'love truli', 'mark', 'movi', 'movi like', 'sure', 'sure disappoint', 'truli', 'truli great', 'upto', 'upto mark']\n"
     ]
    }
   ],
   "source": [
    "print(cv.get_feature_names())"
   ]
  },
  {
   "cell_type": "markdown",
   "id": "8a8bd01d",
   "metadata": {},
   "source": [
    "## Multinomial Naive Bayes"
   ]
  },
  {
   "cell_type": "code",
   "execution_count": 19,
   "id": "ae3a68cd",
   "metadata": {},
   "outputs": [],
   "source": [
    "from sklearn.naive_bayes import MultinomialNB,BernoulliNB, GaussianNB"
   ]
  },
  {
   "cell_type": "code",
   "execution_count": 20,
   "id": "d1ded6b8",
   "metadata": {},
   "outputs": [],
   "source": [
    "mnb=MultinomialNB()"
   ]
  },
  {
   "cell_type": "code",
   "execution_count": 22,
   "id": "8a7edafd",
   "metadata": {},
   "outputs": [
    {
     "data": {
      "text/plain": [
       "MultinomialNB()"
      ]
     },
     "execution_count": 22,
     "metadata": {},
     "output_type": "execute_result"
    }
   ],
   "source": [
    "mnb.fit(x_vec,y)"
   ]
  },
  {
   "cell_type": "code",
   "execution_count": 23,
   "id": "4fafa630",
   "metadata": {},
   "outputs": [
    {
     "data": {
      "text/plain": [
       "array([1, 0])"
      ]
     },
     "execution_count": 23,
     "metadata": {},
     "output_type": "execute_result"
    }
   ],
   "source": [
    "mnb.predict(xt_vec)"
   ]
  },
  {
   "cell_type": "code",
   "execution_count": 25,
   "id": "99ea7acb",
   "metadata": {},
   "outputs": [
    {
     "data": {
      "text/plain": [
       "array([[0.09580319, 0.90419681],\n",
       "       [0.61972801, 0.38027199]])"
      ]
     },
     "execution_count": 25,
     "metadata": {},
     "output_type": "execute_result"
    }
   ],
   "source": [
    "mnb.predict_proba(xt_vec)"
   ]
  },
  {
   "cell_type": "markdown",
   "id": "10f94d14",
   "metadata": {},
   "source": [
    "## Multivariate Bernoulli Event Model Naive Bayes"
   ]
  },
  {
   "cell_type": "code",
   "execution_count": null,
   "id": "8fdc6a30",
   "metadata": {},
   "outputs": [],
   "source": [
    "# now in x_vec there is frequency of words which can be greater than 1 also but bernoulli only use for boolean \n",
    "# so it automatically convert value to 1 which is greater than 0 or 1 "
   ]
  },
  {
   "cell_type": "code",
   "execution_count": 26,
   "id": "8b43eaba",
   "metadata": {},
   "outputs": [],
   "source": [
    "bnb = BernoulliNB(binarize=0.0)\n",
    "#here binarize =0.0 means convert value to 1 which is greater than 0 "
   ]
  },
  {
   "cell_type": "code",
   "execution_count": 27,
   "id": "010ab19d",
   "metadata": {},
   "outputs": [
    {
     "data": {
      "text/plain": [
       "BernoulliNB()"
      ]
     },
     "execution_count": 27,
     "metadata": {},
     "output_type": "execute_result"
    }
   ],
   "source": [
    "bnb.fit(x_vec,y)"
   ]
  },
  {
   "cell_type": "code",
   "execution_count": 28,
   "id": "905c326e",
   "metadata": {},
   "outputs": [
    {
     "data": {
      "text/plain": [
       "array([[0.10638608, 0.89361392],\n",
       "       [0.76046221, 0.23953779]])"
      ]
     },
     "execution_count": 28,
     "metadata": {},
     "output_type": "execute_result"
    }
   ],
   "source": [
    "bnb.predict_proba(xt_vec)"
   ]
  },
  {
   "cell_type": "code",
   "execution_count": 29,
   "id": "22d8c221",
   "metadata": {},
   "outputs": [
    {
     "data": {
      "text/plain": [
       "array([1, 0])"
      ]
     },
     "execution_count": 29,
     "metadata": {},
     "output_type": "execute_result"
    }
   ],
   "source": [
    "bnb.predict(xt_vec)"
   ]
  },
  {
   "cell_type": "code",
   "execution_count": null,
   "id": "42804c66",
   "metadata": {},
   "outputs": [],
   "source": []
  },
  {
   "cell_type": "code",
   "execution_count": null,
   "id": "fc082a6a",
   "metadata": {},
   "outputs": [],
   "source": []
  },
  {
   "cell_type": "code",
   "execution_count": null,
   "id": "21a04202",
   "metadata": {},
   "outputs": [],
   "source": []
  },
  {
   "cell_type": "code",
   "execution_count": null,
   "id": "d3842ed1",
   "metadata": {},
   "outputs": [],
   "source": []
  }
 ],
 "metadata": {
  "kernelspec": {
   "display_name": "Python 3",
   "language": "python",
   "name": "python3"
  },
  "language_info": {
   "codemirror_mode": {
    "name": "ipython",
    "version": 3
   },
   "file_extension": ".py",
   "mimetype": "text/x-python",
   "name": "python",
   "nbconvert_exporter": "python",
   "pygments_lexer": "ipython3",
   "version": "3.8.8"
  }
 },
 "nbformat": 4,
 "nbformat_minor": 5
}
